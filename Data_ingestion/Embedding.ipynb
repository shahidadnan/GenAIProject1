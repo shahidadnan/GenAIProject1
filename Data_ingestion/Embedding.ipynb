{
 "cells": [
  {
   "cell_type": "markdown",
   "id": "4c0d3a4b",
   "metadata": {},
   "source": [
    "Ollama"
   ]
  },
  {
   "cell_type": "markdown",
   "id": "173c12c6",
   "metadata": {},
   "source": [
    "from "
   ]
  }
 ],
 "metadata": {
  "kernelspec": {
   "display_name": "Python 3",
   "language": "python",
   "name": "python3"
  },
  "language_info": {
   "name": "python",
   "version": "3.10.0"
  }
 },
 "nbformat": 4,
 "nbformat_minor": 5
}
